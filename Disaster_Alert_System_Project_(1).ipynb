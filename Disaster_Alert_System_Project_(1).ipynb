{
  "nbformat": 4,
  "nbformat_minor": 0,
  "metadata": {
    "colab": {
      "provenance": [],
      "include_colab_link": true
    },
    "kernelspec": {
      "name": "python3",
      "display_name": "Python 3"
    },
    "language_info": {
      "name": "python"
    }
  },
  "cells": [
    {
      "cell_type": "markdown",
      "metadata": {
        "id": "view-in-github",
        "colab_type": "text"
      },
      "source": [
        "<a href=\"https://colab.research.google.com/github/viomn/Heart_Disease_Prediction/blob/main/Disaster_Alert_System_Project_(1).ipynb\" target=\"_parent\"><img src=\"https://colab.research.google.com/assets/colab-badge.svg\" alt=\"Open In Colab\"/></a>"
      ]
    },
    {
      "cell_type": "code",
      "source": [
        "import pandas as pd\n",
        "import numpy as np\n",
        "\n",
        "# Load datasets\n",
        "earthquake_df = pd.read_csv(\"/content/drive/MyDrive/BVP_datasets/all_month.csv\")\n",
        "flood_df = pd.read_csv(\"/content/drive/MyDrive/BVP_datasets/flood.csv (1).zip\")"
      ],
      "metadata": {
        "id": "WfBJlCXWzQGQ"
      },
      "execution_count": 3,
      "outputs": []
    },
    {
      "cell_type": "markdown",
      "source": [
        "\n",
        "\n",
        "**TRAIN EARTHQUAKE CLASSIFIER**"
      ],
      "metadata": {
        "id": "JfE8VzxczaGr"
      }
    },
    {
      "cell_type": "code",
      "source": [
        "from sklearn.ensemble import RandomForestClassifier\n",
        "from sklearn.model_selection import train_test_split\n",
        "from sklearn.metrics import classification_report\n",
        "\n",
        "# Select features\n",
        "eq_df = earthquake_df[['latitude', 'longitude', 'mag', 'depth']].dropna()\n",
        "eq_df['label'] = eq_df['mag'].apply(lambda x: 1 if x >= 4.5 else 0)  # 1 = earthquake\n",
        "\n",
        "X_eq = eq_df[['latitude', 'longitude', 'mag', 'depth']]\n",
        "y_eq = eq_df['label']\n",
        "\n",
        "X_train_eq, X_test_eq, y_train_eq, y_test_eq = train_test_split(X_eq, y_eq, test_size=0.2)\n",
        "\n",
        "eq_model = RandomForestClassifier()\n",
        "eq_model.fit(X_train_eq, y_train_eq)\n",
        "\n",
        "print(classification_report(y_test_eq, eq_model.predict(X_test_eq)))\n"
      ],
      "metadata": {
        "colab": {
          "base_uri": "https://localhost:8080/"
        },
        "id": "hizIeqc2zUQX",
        "outputId": "90f5f9b7-5921-47eb-e7ce-b126a29acc87"
      },
      "execution_count": 4,
      "outputs": [
        {
          "output_type": "stream",
          "name": "stdout",
          "text": [
            "              precision    recall  f1-score   support\n",
            "\n",
            "           0       1.00      1.00      1.00      2055\n",
            "           1       1.00      1.00      1.00       113\n",
            "\n",
            "    accuracy                           1.00      2168\n",
            "   macro avg       1.00      1.00      1.00      2168\n",
            "weighted avg       1.00      1.00      1.00      2168\n",
            "\n"
          ]
        }
      ]
    },
    {
      "cell_type": "markdown",
      "source": [
        "**TRAIN FLOOD REGRESSOR**"
      ],
      "metadata": {
        "id": "0jSyFaIjzxdu"
      }
    },
    {
      "cell_type": "code",
      "source": [
        "from sklearn.ensemble import RandomForestRegressor\n",
        "from sklearn.metrics import mean_squared_error\n",
        "\n",
        "# Drop target and nulls\n",
        "flood_df.dropna(inplace=True)\n",
        "X_flood = flood_df.drop(\"FloodProbability\", axis=1)\n",
        "y_flood = flood_df[\"FloodProbability\"]\n",
        "\n",
        "X_train_flood, X_test_flood, y_train_flood, y_test_flood = train_test_split(X_flood, y_flood, test_size=0.2)\n",
        "\n",
        "flood_model = RandomForestRegressor()\n",
        "flood_model.fit(X_train_flood, y_train_flood)\n",
        "\n",
        "print(\"MSE:\", mean_squared_error(y_test_flood, flood_model.predict(X_test_flood)))"
      ],
      "metadata": {
        "colab": {
          "base_uri": "https://localhost:8080/"
        },
        "id": "NbQs3n4eztrc",
        "outputId": "3cca63ca-b2c7-48d3-a763-ed3325c8ccfc"
      },
      "execution_count": 5,
      "outputs": [
        {
          "output_type": "stream",
          "name": "stdout",
          "text": [
            "MSE: 0.0006720436592500003\n"
          ]
        }
      ]
    },
    {
      "cell_type": "code",
      "source": [
        "import joblib\n",
        "\n",
        "joblib.dump(eq_model, \"earthquake_model.pkl\")\n",
        "joblib.dump(flood_model, \"flood_model.pkl\")\n",
        "joblib.dump(X_flood.columns, \"flood_features.pkl\")  # save feature order"
      ],
      "metadata": {
        "colab": {
          "base_uri": "https://localhost:8080/"
        },
        "id": "V5TfbE0l0REm",
        "outputId": "9364cec2-06b0-4865-df74-f2745e75e6e5"
      },
      "execution_count": 6,
      "outputs": [
        {
          "output_type": "execute_result",
          "data": {
            "text/plain": [
              "['flood_features.pkl']"
            ]
          },
          "metadata": {},
          "execution_count": 6
        }
      ]
    },
    {
      "cell_type": "code",
      "execution_count": 8,
      "metadata": {
        "colab": {
          "base_uri": "https://localhost:8080/"
        },
        "id": "SxKeg7GQECoF",
        "outputId": "a7e5f1c1-d986-4617-d07e-f32694f56540"
      },
      "outputs": [
        {
          "output_type": "stream",
          "name": "stdout",
          "text": [
            "Classification Report:\n",
            "              precision    recall  f1-score   support\n",
            "\n",
            "  Earthquake       0.83      0.83      0.83         6\n",
            "       Flood       0.50      0.67      0.57         9\n",
            "        None       0.62      0.45      0.53        11\n",
            "\n",
            "    accuracy                           0.62        26\n",
            "   macro avg       0.65      0.65      0.64        26\n",
            "weighted avg       0.63      0.62      0.61        26\n",
            "\n",
            "Prediction for 2025-01-1: Flood\n"
          ]
        }
      ],
      "source": [
        "import pandas as pd\n",
        "import numpy as np\n",
        "from sklearn.ensemble import RandomForestClassifier\n",
        "from sklearn.model_selection import train_test_split\n",
        "from sklearn.metrics import classification_report\n",
        "from datetime import datetime\n",
        "\n",
        "# 1. Load Earthquake Data\n",
        "earthquake_df = pd.read_csv(\"/content/drive/MyDrive/BVP_datasets/all_month.csv\")\n",
        "earthquake_df['date'] = pd.to_datetime(earthquake_df['time']).dt.date\n",
        "\n",
        "# Group by date: if any quake > 4.5 happened, mark as 'Earthquake'\n",
        "earthquake_event = earthquake_df[earthquake_df['mag'] >= 4.5]\n",
        "earthquake_by_date = earthquake_event.groupby('date').size().reset_index(name='EarthquakeCount')\n",
        "earthquake_by_date['Disaster'] = 'Earthquake'\n",
        "earthquake_by_date['date'] = pd.to_datetime(earthquake_by_date['date'])\n",
        "\n",
        "# 2. Load and Simulate Flood Data\n",
        "flood_df = pd.read_csv(\"/content/drive/MyDrive/BVP_datasets/flood.csv (1).zip\")  # already cleaned version\n",
        "# Simulate 100 dates for the flood data\n",
        "flood_dates = pd.date_range(start=\"2025-01-01\", periods=100, freq='7D')\n",
        "flood_df = flood_df.head(100).copy() # Take only the first 100 rows to match the dates\n",
        "flood_df['date'] = flood_dates\n",
        "flood_df['Disaster'] = np.where(flood_df['FloodProbability'] > 0.5, 'Flood', 'None')\n",
        "flood_df['date'] = pd.to_datetime(flood_df['date'])\n",
        "\n",
        "\n",
        "# 3. Merge both earthquake and flood data\n",
        "merged_df = pd.merge(flood_df[['date', 'Disaster']], earthquake_by_date[['date', 'Disaster']],\n",
        "                     on='date', how='outer', suffixes=('_flood', '_eq'))\n",
        "\n",
        "# Resolve conflicts\n",
        "def resolve_disaster(row):\n",
        "    if row['Disaster_eq'] == 'Earthquake':\n",
        "        return 'Earthquake'\n",
        "    elif row['Disaster_flood'] == 'Flood':\n",
        "        return 'Flood'\n",
        "    elif row['Disaster_flood'] == 'None':\n",
        "        return 'None'\n",
        "    else:\n",
        "        return 'None'\n",
        "\n",
        "merged_df['FinalDisaster'] = merged_df.apply(resolve_disaster, axis=1)\n",
        "\n",
        "# Add features (month, day, weekday)\n",
        "merged_df['month'] = pd.to_datetime(merged_df['date']).dt.month\n",
        "merged_df['day'] = pd.to_datetime(merged_df['date']).dt.day\n",
        "merged_df['weekday'] = pd.to_datetime(merged_df['date']).dt.weekday\n",
        "\n",
        "# Final data for training\n",
        "X = merged_df[['month', 'day', 'weekday']]\n",
        "y = merged_df['FinalDisaster']\n",
        "\n",
        "# Encode labels\n",
        "from sklearn.preprocessing import LabelEncoder\n",
        "le = LabelEncoder()\n",
        "y_encoded = le.fit_transform(y)  # 0: Earthquake, 1: Flood, 2: None\n",
        "\n",
        "# 4. Train-test split & model\n",
        "X_train, X_test, y_train, y_test = train_test_split(X, y_encoded, test_size=0.2, random_state=42)\n",
        "model = RandomForestClassifier(n_estimators=100, random_state=42)\n",
        "model.fit(X_train, y_train)\n",
        "\n",
        "# 5. Evaluate\n",
        "y_pred = model.predict(X_test)\n",
        "print(\"Classification Report:\")\n",
        "print(classification_report(y_test, y_pred, target_names=le.classes_))\n",
        "\n",
        "# 6. Predict from user input\n",
        "def predict_disaster(input_date_str):\n",
        "    input_date = pd.to_datetime(input_date_str)\n",
        "    features = pd.DataFrame({\n",
        "        'month': [input_date.month],\n",
        "        'day': [input_date.day],\n",
        "        'weekday': [input_date.weekday()]\n",
        "    })\n",
        "    pred = model.predict(features)\n",
        "    return le.inverse_transform(pred)[0]\n",
        "\n",
        "# Example Usage:\n",
        "print(\"Prediction for 2025-01-1:\", predict_disaster(\"2025-01-1\"))"
      ]
    },
    {
      "cell_type": "code",
      "source": [
        "# Define a placeholder function for sending email alerts\n",
        "def send_email_alert(disaster_type, date):\n",
        "    print(f\"ALERT: Predicted {disaster_type} on {date}. Sending email alert...\")\n",
        "    # Replace this with your actual email sending code\n",
        "\n",
        "# 1. Predict disaster from input date\n",
        "disaster = predict_disaster(\"2025-08-15\")\n",
        "\n",
        "# 2. If it's Flood or Earthquake → Send alert\n",
        "if disaster != \"None\":\n",
        "    send_email_alert(disaster, \"2025-08-15\")"
      ],
      "metadata": {
        "colab": {
          "base_uri": "https://localhost:8080/"
        },
        "id": "-muR5h1dGyNI",
        "outputId": "27a17508-bc3a-4c79-e643-25d4f3887174"
      },
      "execution_count": 9,
      "outputs": [
        {
          "output_type": "stream",
          "name": "stdout",
          "text": [
            "ALERT: Predicted Earthquake on 2025-08-15. Sending email alert...\n"
          ]
        }
      ]
    },
    {
      "cell_type": "code",
      "source": [
        "import smtplib\n",
        "from email.mime.text import MIMEText\n",
        "from email.mime.multipart import MIMEMultipart\n",
        "\n",
        "# Step 1: Prediction Function (already defined earlier)\n",
        "def predict_disaster(input_date_str):\n",
        "    input_date = pd.to_datetime(input_date_str)\n",
        "    features = pd.DataFrame({\n",
        "        'month': [input_date.month],\n",
        "        'day': [input_date.day],\n",
        "        'weekday': [input_date.weekday()]\n",
        "    })\n",
        "    pred = model.predict(features)\n",
        "    return le.inverse_transform(pred)[0]\n",
        "\n",
        "# Step 2: Email Alert Function\n",
        "def send_email_alert(disaster_type, date_str):\n",
        "    sender_email = \"palakaggarwal9711@gmail.com\"        # your Gmail\n",
        "    receiver_email = \"nehandls6@gmail.com\"  # receiver\n",
        "    app_password = \"sxhc gxfl zgls uiei\"           # NOT your Gmail password!\n",
        "\n",
        "     # --- Precautions dictionary ---\n",
        "    precautions = {\n",
        "        \"Earthquake\": \"\"\"\n",
        "        🛑 Earthquake Safety Tips:\n",
        "        - Drop, Cover, and Hold On during shaking.\n",
        "        - Stay away from windows, mirrors, and glass.\n",
        "        - If you're outside, move to an open area away from buildings.\n",
        "        - Keep an emergency kit with water, flashlight, batteries, etc.\n",
        "        - Avoid elevators and stay calm.\n",
        "        \"\"\",\n",
        "        \"Flood\": \"\"\"\n",
        "        🌊 Flood Safety Tips:\n",
        "        - Move to higher ground immediately.\n",
        "        - Avoid walking or driving through floodwaters.\n",
        "        - Disconnect electrical appliances and turn off gas.\n",
        "        - Keep emergency contacts and important documents ready.\n",
        "        - Follow official evacuation orders if announced.\n",
        "        \"\"\"\n",
        "    }\n",
        "\n",
        "    # Check and show precautions\n",
        "    if disaster_type in precautions:\n",
        "        print(\"⚠️ Disaster Detected:\", disaster_type)\n",
        "        print(precautions[disaster_type])\n",
        "    else:\n",
        "        print(\"✅ No disaster predicted. Stay safe!\")\n",
        "\n",
        "\n",
        "    subject = f\"🚨 Alert: {disaster_type} predicted on {date_str}\"\n",
        "    body = f\"\"\"\n",
        "Hi there,\n",
        "\n",
        "Our system has detected a possible {disaster_type.upper()} on {date_str}.\n",
        "Please stay alert and follow safety instructions.\n",
        "\n",
        "Regards,\n",
        "Disaster Prediction System\n",
        "\"\"\"\n",
        "\n",
        "    msg = MIMEMultipart()\n",
        "    msg[\"From\"] = sender_email\n",
        "    msg[\"To\"] = receiver_email\n",
        "    msg[\"Subject\"] = subject\n",
        "    msg.attach(MIMEText(body, \"plain\"))\n",
        "\n",
        "    # Send email via Gmail SMTP\n",
        "    try:\n",
        "        server = smtplib.SMTP(\"smtp.gmail.com\", 587)\n",
        "        server.starttls()\n",
        "        server.login(sender_email, app_password)\n",
        "        server.sendmail(sender_email, receiver_email, msg.as_string())\n",
        "        server.quit()\n",
        "        print(\"✅ Email sent successfully!\")\n",
        "    except Exception as e:\n",
        "        print(\"❌ Failed to send email:\", e)\n",
        "\n",
        "# Step 3: Use both functions\n",
        "input_date = \"2025-10-30\"\n",
        "prediction = predict_disaster(input_date)\n",
        "print(\"Predicted:\", prediction)\n",
        "\n",
        "if prediction != \"None\":\n",
        "    send_email_alert(prediction, input_date)"
      ],
      "metadata": {
        "colab": {
          "base_uri": "https://localhost:8080/"
        },
        "id": "pJoB4oToHSGT",
        "outputId": "3649955f-e36e-4281-ac59-07c88a1968a4"
      },
      "execution_count": 10,
      "outputs": [
        {
          "output_type": "stream",
          "name": "stdout",
          "text": [
            "Predicted: Flood\n",
            "⚠️ Disaster Detected: Flood\n",
            "\n",
            "        🌊 Flood Safety Tips:\n",
            "        - Move to higher ground immediately.\n",
            "        - Avoid walking or driving through floodwaters.\n",
            "        - Disconnect electrical appliances and turn off gas.\n",
            "        - Keep emergency contacts and important documents ready.\n",
            "        - Follow official evacuation orders if announced.\n",
            "        \n",
            "✅ Email sent successfully!\n"
          ]
        }
      ]
    },
    {
      "cell_type": "code",
      "source": [
        "pip install streamlit pandas matplotlib seaborn\n"
      ],
      "metadata": {
        "colab": {
          "base_uri": "https://localhost:8080/"
        },
        "id": "ICCe2n7t09PI",
        "outputId": "8cb14b72-d995-4e5a-972e-32d778f59e9e"
      },
      "execution_count": 11,
      "outputs": [
        {
          "output_type": "stream",
          "name": "stdout",
          "text": [
            "Collecting streamlit\n",
            "  Downloading streamlit-1.47.0-py3-none-any.whl.metadata (9.0 kB)\n",
            "Requirement already satisfied: pandas in /usr/local/lib/python3.11/dist-packages (2.2.2)\n",
            "Requirement already satisfied: matplotlib in /usr/local/lib/python3.11/dist-packages (3.10.0)\n",
            "Requirement already satisfied: seaborn in /usr/local/lib/python3.11/dist-packages (0.13.2)\n",
            "Requirement already satisfied: altair<6,>=4.0 in /usr/local/lib/python3.11/dist-packages (from streamlit) (5.5.0)\n",
            "Requirement already satisfied: blinker<2,>=1.5.0 in /usr/local/lib/python3.11/dist-packages (from streamlit) (1.9.0)\n",
            "Requirement already satisfied: cachetools<7,>=4.0 in /usr/local/lib/python3.11/dist-packages (from streamlit) (5.5.2)\n",
            "Requirement already satisfied: click<9,>=7.0 in /usr/local/lib/python3.11/dist-packages (from streamlit) (8.2.1)\n",
            "Requirement already satisfied: numpy<3,>=1.23 in /usr/local/lib/python3.11/dist-packages (from streamlit) (2.0.2)\n",
            "Requirement already satisfied: packaging<26,>=20 in /usr/local/lib/python3.11/dist-packages (from streamlit) (25.0)\n",
            "Requirement already satisfied: pillow<12,>=7.1.0 in /usr/local/lib/python3.11/dist-packages (from streamlit) (11.3.0)\n",
            "Requirement already satisfied: protobuf<7,>=3.20 in /usr/local/lib/python3.11/dist-packages (from streamlit) (5.29.5)\n",
            "Requirement already satisfied: pyarrow>=7.0 in /usr/local/lib/python3.11/dist-packages (from streamlit) (18.1.0)\n",
            "Requirement already satisfied: requests<3,>=2.27 in /usr/local/lib/python3.11/dist-packages (from streamlit) (2.32.3)\n",
            "Requirement already satisfied: tenacity<10,>=8.1.0 in /usr/local/lib/python3.11/dist-packages (from streamlit) (8.5.0)\n",
            "Requirement already satisfied: toml<2,>=0.10.1 in /usr/local/lib/python3.11/dist-packages (from streamlit) (0.10.2)\n",
            "Requirement already satisfied: typing-extensions<5,>=4.4.0 in /usr/local/lib/python3.11/dist-packages (from streamlit) (4.14.1)\n",
            "Collecting watchdog<7,>=2.1.5 (from streamlit)\n",
            "  Downloading watchdog-6.0.0-py3-none-manylinux2014_x86_64.whl.metadata (44 kB)\n",
            "\u001b[2K     \u001b[90m━━━━━━━━━━━━━━━━━━━━━━━━━━━━━━━━━━━━━━━━\u001b[0m \u001b[32m44.3/44.3 kB\u001b[0m \u001b[31m2.8 MB/s\u001b[0m eta \u001b[36m0:00:00\u001b[0m\n",
            "\u001b[?25hRequirement already satisfied: gitpython!=3.1.19,<4,>=3.0.7 in /usr/local/lib/python3.11/dist-packages (from streamlit) (3.1.44)\n",
            "Collecting pydeck<1,>=0.8.0b4 (from streamlit)\n",
            "  Downloading pydeck-0.9.1-py2.py3-none-any.whl.metadata (4.1 kB)\n",
            "Requirement already satisfied: tornado!=6.5.0,<7,>=6.0.3 in /usr/local/lib/python3.11/dist-packages (from streamlit) (6.4.2)\n",
            "Requirement already satisfied: python-dateutil>=2.8.2 in /usr/local/lib/python3.11/dist-packages (from pandas) (2.9.0.post0)\n",
            "Requirement already satisfied: pytz>=2020.1 in /usr/local/lib/python3.11/dist-packages (from pandas) (2025.2)\n",
            "Requirement already satisfied: tzdata>=2022.7 in /usr/local/lib/python3.11/dist-packages (from pandas) (2025.2)\n",
            "Requirement already satisfied: contourpy>=1.0.1 in /usr/local/lib/python3.11/dist-packages (from matplotlib) (1.3.2)\n",
            "Requirement already satisfied: cycler>=0.10 in /usr/local/lib/python3.11/dist-packages (from matplotlib) (0.12.1)\n",
            "Requirement already satisfied: fonttools>=4.22.0 in /usr/local/lib/python3.11/dist-packages (from matplotlib) (4.59.0)\n",
            "Requirement already satisfied: kiwisolver>=1.3.1 in /usr/local/lib/python3.11/dist-packages (from matplotlib) (1.4.8)\n",
            "Requirement already satisfied: pyparsing>=2.3.1 in /usr/local/lib/python3.11/dist-packages (from matplotlib) (3.2.3)\n",
            "Requirement already satisfied: jinja2 in /usr/local/lib/python3.11/dist-packages (from altair<6,>=4.0->streamlit) (3.1.6)\n",
            "Requirement already satisfied: jsonschema>=3.0 in /usr/local/lib/python3.11/dist-packages (from altair<6,>=4.0->streamlit) (4.25.0)\n",
            "Requirement already satisfied: narwhals>=1.14.2 in /usr/local/lib/python3.11/dist-packages (from altair<6,>=4.0->streamlit) (1.47.1)\n",
            "Requirement already satisfied: gitdb<5,>=4.0.1 in /usr/local/lib/python3.11/dist-packages (from gitpython!=3.1.19,<4,>=3.0.7->streamlit) (4.0.12)\n",
            "Requirement already satisfied: six>=1.5 in /usr/local/lib/python3.11/dist-packages (from python-dateutil>=2.8.2->pandas) (1.17.0)\n",
            "Requirement already satisfied: charset-normalizer<4,>=2 in /usr/local/lib/python3.11/dist-packages (from requests<3,>=2.27->streamlit) (3.4.2)\n",
            "Requirement already satisfied: idna<4,>=2.5 in /usr/local/lib/python3.11/dist-packages (from requests<3,>=2.27->streamlit) (3.10)\n",
            "Requirement already satisfied: urllib3<3,>=1.21.1 in /usr/local/lib/python3.11/dist-packages (from requests<3,>=2.27->streamlit) (2.5.0)\n",
            "Requirement already satisfied: certifi>=2017.4.17 in /usr/local/lib/python3.11/dist-packages (from requests<3,>=2.27->streamlit) (2025.7.14)\n",
            "Requirement already satisfied: smmap<6,>=3.0.1 in /usr/local/lib/python3.11/dist-packages (from gitdb<5,>=4.0.1->gitpython!=3.1.19,<4,>=3.0.7->streamlit) (5.0.2)\n",
            "Requirement already satisfied: MarkupSafe>=2.0 in /usr/local/lib/python3.11/dist-packages (from jinja2->altair<6,>=4.0->streamlit) (3.0.2)\n",
            "Requirement already satisfied: attrs>=22.2.0 in /usr/local/lib/python3.11/dist-packages (from jsonschema>=3.0->altair<6,>=4.0->streamlit) (25.3.0)\n",
            "Requirement already satisfied: jsonschema-specifications>=2023.03.6 in /usr/local/lib/python3.11/dist-packages (from jsonschema>=3.0->altair<6,>=4.0->streamlit) (2025.4.1)\n",
            "Requirement already satisfied: referencing>=0.28.4 in /usr/local/lib/python3.11/dist-packages (from jsonschema>=3.0->altair<6,>=4.0->streamlit) (0.36.2)\n",
            "Requirement already satisfied: rpds-py>=0.7.1 in /usr/local/lib/python3.11/dist-packages (from jsonschema>=3.0->altair<6,>=4.0->streamlit) (0.26.0)\n",
            "Downloading streamlit-1.47.0-py3-none-any.whl (9.9 MB)\n",
            "\u001b[2K   \u001b[90m━━━━━━━━━━━━━━━━━━━━━━━━━━━━━━━━━━━━━━━━\u001b[0m \u001b[32m9.9/9.9 MB\u001b[0m \u001b[31m65.6 MB/s\u001b[0m eta \u001b[36m0:00:00\u001b[0m\n",
            "\u001b[?25hDownloading pydeck-0.9.1-py2.py3-none-any.whl (6.9 MB)\n",
            "\u001b[2K   \u001b[90m━━━━━━━━━━━━━━━━━━━━━━━━━━━━━━━━━━━━━━━━\u001b[0m \u001b[32m6.9/6.9 MB\u001b[0m \u001b[31m60.6 MB/s\u001b[0m eta \u001b[36m0:00:00\u001b[0m\n",
            "\u001b[?25hDownloading watchdog-6.0.0-py3-none-manylinux2014_x86_64.whl (79 kB)\n",
            "\u001b[2K   \u001b[90m━━━━━━━━━━━━━━━━━━━━━━━━━━━━━━━━━━━━━━━━\u001b[0m \u001b[32m79.1/79.1 kB\u001b[0m \u001b[31m6.3 MB/s\u001b[0m eta \u001b[36m0:00:00\u001b[0m\n",
            "\u001b[?25hInstalling collected packages: watchdog, pydeck, streamlit\n",
            "Successfully installed pydeck-0.9.1 streamlit-1.47.0 watchdog-6.0.0\n"
          ]
        }
      ]
    },
    {
      "cell_type": "code",
      "source": [
        "import streamlit as st\n",
        "import pandas as pd\n",
        "import zipfile\n",
        "import io\n",
        "import matplotlib.pyplot as plt\n",
        "import seaborn as sns\n",
        "\n",
        "st.set_page_config(page_title=\"Disaster Data Explorer\", layout=\"wide\")\n",
        "\n",
        "st.title(\"🌍 Disaster Data Dashboard\")\n",
        "\n",
        "# Sidebar selection\n",
        "disaster_type = st.sidebar.selectbox(\"Select Disaster Type\", [\"Earthquake\", \"Flood\"])\n",
        "\n",
        "# Function to load earthquake data\n",
        "@st.cache_data\n",
        "def load_earthquake_data():\n",
        "    df = pd.read_csv(\"/content/drive/MyDrive/BVP_datasets/all_month.csv\")\n",
        "    return df\n",
        "\n",
        "# Function to load flood data from zip\n",
        "@st.cache_data\n",
        "def load_flood_data():\n",
        "    with zipfile.ZipFile(\"flood.csv.zip\", 'r') as zip_ref:\n",
        "        for filename in zip_ref.namelist():\n",
        "            with zip_ref.open(filename) as f:\n",
        "                return pd.read_csv(f)\n",
        "\n",
        "# Load selected data\n",
        "if disaster_type == \"Earthquake\":\n",
        "    df = load_earthquake_data()\n",
        "    st.subheader(\"📊 Earthquake Data Preview\")\n",
        "    st.dataframe(df.head())\n",
        "\n",
        "    st.subheader(\"Magnitude Distribution\")\n",
        "    fig, ax = plt.subplots()\n",
        "    sns.histplot(df['mag'].dropna(), kde=True, bins=30, ax=ax)\n",
        "    st.pyplot(fig)\n",
        "\n",
        "    st.write(\"Total Earthquakes:\", len(df))\n",
        "    st.write(\"Max Magnitude:\", df['mag'].max())\n",
        "\n",
        "elif disaster_type == \"Flood\":\n",
        "    df = load_flood_data()\n",
        "    st.subheader(\"📊 Flood Data Preview\")\n",
        "    st.dataframe(df.head())\n",
        "\n",
        "    st.subheader(\"Flood Data Summary\")\n",
        "    st.write(df.describe())\n",
        "\n",
        "# Optional: show raw data\n",
        "with st.expander(\"🔍 Show Raw Data\"):\n",
        "    st.dataframe(df)\n"
      ],
      "metadata": {
        "colab": {
          "base_uri": "https://localhost:8080/",
          "height": 1000
        },
        "id": "Ev4JFAed2uao",
        "outputId": "f1345155-7388-4cc8-ef20-bfbe4ad0564d"
      },
      "execution_count": 13,
      "outputs": [
        {
          "output_type": "stream",
          "name": "stderr",
          "text": [
            "2025-07-23 06:00:27.977 Thread 'MainThread': missing ScriptRunContext! This warning can be ignored when running in bare mode.\n",
            "2025-07-23 06:00:27.978 Thread 'MainThread': missing ScriptRunContext! This warning can be ignored when running in bare mode.\n",
            "2025-07-23 06:00:27.979 Thread 'MainThread': missing ScriptRunContext! This warning can be ignored when running in bare mode.\n",
            "2025-07-23 06:00:27.980 Thread 'MainThread': missing ScriptRunContext! This warning can be ignored when running in bare mode.\n",
            "2025-07-23 06:00:27.981 Thread 'MainThread': missing ScriptRunContext! This warning can be ignored when running in bare mode.\n",
            "2025-07-23 06:00:27.982 Thread 'MainThread': missing ScriptRunContext! This warning can be ignored when running in bare mode.\n",
            "2025-07-23 06:00:27.983 Thread 'MainThread': missing ScriptRunContext! This warning can be ignored when running in bare mode.\n",
            "2025-07-23 06:00:27.984 Thread 'MainThread': missing ScriptRunContext! This warning can be ignored when running in bare mode.\n",
            "2025-07-23 06:00:27.986 Thread 'MainThread': missing ScriptRunContext! This warning can be ignored when running in bare mode.\n",
            "2025-07-23 06:00:27.987 Thread 'MainThread': missing ScriptRunContext! This warning can be ignored when running in bare mode.\n",
            "2025-07-23 06:00:27.988 Thread 'MainThread': missing ScriptRunContext! This warning can be ignored when running in bare mode.\n",
            "2025-07-23 06:00:27.989 No runtime found, using MemoryCacheStorageManager\n",
            "2025-07-23 06:00:27.991 No runtime found, using MemoryCacheStorageManager\n",
            "2025-07-23 06:00:27.994 No runtime found, using MemoryCacheStorageManager\n",
            "2025-07-23 06:00:27.995 Thread 'MainThread': missing ScriptRunContext! This warning can be ignored when running in bare mode.\n",
            "2025-07-23 06:00:27.996 Thread 'MainThread': missing ScriptRunContext! This warning can be ignored when running in bare mode.\n",
            "2025-07-23 06:00:27.997 Thread 'MainThread': missing ScriptRunContext! This warning can be ignored when running in bare mode.\n",
            "2025-07-23 06:00:27.998 Thread 'MainThread': missing ScriptRunContext! This warning can be ignored when running in bare mode.\n",
            "2025-07-23 06:00:28.090 Thread 'MainThread': missing ScriptRunContext! This warning can be ignored when running in bare mode.\n",
            "2025-07-23 06:00:28.091 Thread 'MainThread': missing ScriptRunContext! This warning can be ignored when running in bare mode.\n",
            "2025-07-23 06:00:28.093 Thread 'MainThread': missing ScriptRunContext! This warning can be ignored when running in bare mode.\n",
            "2025-07-23 06:00:28.094 Thread 'MainThread': missing ScriptRunContext! This warning can be ignored when running in bare mode.\n",
            "2025-07-23 06:00:28.096 Thread 'MainThread': missing ScriptRunContext! This warning can be ignored when running in bare mode.\n",
            "2025-07-23 06:00:28.097 Thread 'MainThread': missing ScriptRunContext! This warning can be ignored when running in bare mode.\n",
            "2025-07-23 06:00:28.141 Thread 'MainThread': missing ScriptRunContext! This warning can be ignored when running in bare mode.\n",
            "2025-07-23 06:00:28.143 Thread 'MainThread': missing ScriptRunContext! This warning can be ignored when running in bare mode.\n",
            "2025-07-23 06:00:28.143 Thread 'MainThread': missing ScriptRunContext! This warning can be ignored when running in bare mode.\n",
            "2025-07-23 06:00:28.144 Thread 'MainThread': missing ScriptRunContext! This warning can be ignored when running in bare mode.\n",
            "2025-07-23 06:00:28.145 Thread 'MainThread': missing ScriptRunContext! This warning can be ignored when running in bare mode.\n",
            "2025-07-23 06:00:28.146 Thread 'MainThread': missing ScriptRunContext! This warning can be ignored when running in bare mode.\n",
            "2025-07-23 06:00:28.398 Thread 'MainThread': missing ScriptRunContext! This warning can be ignored when running in bare mode.\n",
            "2025-07-23 06:00:28.637 Thread 'MainThread': missing ScriptRunContext! This warning can be ignored when running in bare mode.\n",
            "2025-07-23 06:00:28.638 Thread 'MainThread': missing ScriptRunContext! This warning can be ignored when running in bare mode.\n",
            "2025-07-23 06:00:28.639 Thread 'MainThread': missing ScriptRunContext! This warning can be ignored when running in bare mode.\n",
            "2025-07-23 06:00:28.641 Thread 'MainThread': missing ScriptRunContext! This warning can be ignored when running in bare mode.\n",
            "2025-07-23 06:00:28.642 Thread 'MainThread': missing ScriptRunContext! This warning can be ignored when running in bare mode.\n",
            "2025-07-23 06:00:28.643 Thread 'MainThread': missing ScriptRunContext! This warning can be ignored when running in bare mode.\n",
            "2025-07-23 06:00:28.644 Thread 'MainThread': missing ScriptRunContext! This warning can be ignored when running in bare mode.\n",
            "2025-07-23 06:00:28.645 Thread 'MainThread': missing ScriptRunContext! This warning can be ignored when running in bare mode.\n",
            "2025-07-23 06:00:28.645 Thread 'MainThread': missing ScriptRunContext! This warning can be ignored when running in bare mode.\n",
            "2025-07-23 06:00:28.646 Thread 'MainThread': missing ScriptRunContext! This warning can be ignored when running in bare mode.\n",
            "2025-07-23 06:00:28.647 Thread 'MainThread': missing ScriptRunContext! This warning can be ignored when running in bare mode.\n",
            "2025-07-23 06:00:28.648 Thread 'MainThread': missing ScriptRunContext! This warning can be ignored when running in bare mode.\n",
            "2025-07-23 06:00:28.649 Thread 'MainThread': missing ScriptRunContext! This warning can be ignored when running in bare mode.\n",
            "2025-07-23 06:00:28.653 Thread 'MainThread': missing ScriptRunContext! This warning can be ignored when running in bare mode.\n",
            "2025-07-23 06:00:28.654 Thread 'MainThread': missing ScriptRunContext! This warning can be ignored when running in bare mode.\n",
            "2025-07-23 06:00:28.655 Thread 'MainThread': missing ScriptRunContext! This warning can be ignored when running in bare mode.\n",
            "2025-07-23 06:00:28.685 Thread 'MainThread': missing ScriptRunContext! This warning can be ignored when running in bare mode.\n",
            "2025-07-23 06:00:28.686 Thread 'MainThread': missing ScriptRunContext! This warning can be ignored when running in bare mode.\n",
            "2025-07-23 06:00:28.690 Thread 'MainThread': missing ScriptRunContext! This warning can be ignored when running in bare mode.\n"
          ]
        },
        {
          "output_type": "display_data",
          "data": {
            "text/plain": [
              "<Figure size 640x480 with 1 Axes>"
            ],
            "image/png": "[encoded data removed]"
          },
          "metadata": {}
        }
      ]
    },
    {
      "cell_type": "markdown",
      "source": [
        "**Earthquake Using Map**"
      ],
      "metadata": {
        "id": "PsPnj7Bd5FSK"
      }
    },
    {
      "cell_type": "code",
      "source": [
        "st.subheader(\"🌐 Earthquake Locations Map\")\n",
        "\n",
        "# Ensure lat/long columns are valid\n",
        "if 'latitude' in df.columns and 'longitude' in df.columns:\n",
        "    st.map(df[['latitude', 'longitude']].dropna())\n",
        "else:\n",
        "    st.warning(\"Latitude and Longitude not found in earthquake dataset.\")\n"
      ],
      "metadata": {
        "colab": {
          "base_uri": "https://localhost:8080/"
        },
        "id": "KiH1a1gw4gdM",
        "outputId": "e10365a6-9c95-41fa-9788-cb184c1221de"
      },
      "execution_count": 14,
      "outputs": [
        {
          "output_type": "stream",
          "name": "stderr",
          "text": [
            "2025-07-23 06:00:43.786 Thread 'MainThread': missing ScriptRunContext! This warning can be ignored when running in bare mode.\n",
            "2025-07-23 06:00:43.788 Thread 'MainThread': missing ScriptRunContext! This warning can be ignored when running in bare mode.\n",
            "2025-07-23 06:00:43.788 Thread 'MainThread': missing ScriptRunContext! This warning can be ignored when running in bare mode.\n",
            "2025-07-23 06:00:43.889 Thread 'MainThread': missing ScriptRunContext! This warning can be ignored when running in bare mode.\n",
            "2025-07-23 06:00:43.891 Thread 'MainThread': missing ScriptRunContext! This warning can be ignored when running in bare mode.\n",
            "2025-07-23 06:00:43.894 Thread 'MainThread': missing ScriptRunContext! This warning can be ignored when running in bare mode.\n"
          ]
        }
      ]
    },
    {
      "cell_type": "markdown",
      "source": [
        "**Flood Data Using Map**"
      ],
      "metadata": {
        "id": "2Tnrl3j45W4b"
      }
    },
    {
      "cell_type": "code",
      "source": [
        "import pydeck as pdk\n",
        "\n",
        "st.subheader(\"🌐 Flood Map (Interactive)\")\n",
        "\n",
        "if 'latitude' in df.columns and 'longitude' in df.columns:\n",
        "    df_clean = df[['latitude', 'longitude']].dropna()\n",
        "\n",
        "    # Optional: use other columns like 'severity' or 'depth' for radius/tooltip\n",
        "    layer = pdk.Layer(\n",
        "        \"ScatterplotLayer\",\n",
        "        data=df_clean,\n",
        "        get_position='[longitude, latitude]',\n",
        "        get_radius=10000,\n",
        "        get_fill_color='[0, 100, 255, 160]',\n",
        "        pickable=True,\n",
        "    )\n",
        "\n",
        "    view_state = pdk.ViewState(\n",
        "        latitude=df_clean['latitude'].mean(),\n",
        "        longitude=df_clean['longitude'].mean(),\n",
        "        zoom=4,\n",
        "        pitch=0,\n",
        "    )\n",
        "\n",
        "    st.pydeck_chart(pdk.Deck(\n",
        "        map_style='mapbox://styles/mapbox/light-v9',\n",
        "        initial_view_state=view_state,\n",
        "        layers=[layer],\n",
        "        tooltip={\"text\": \"Lat: {latitude}\\nLon: {longitude}\"}\n",
        "    ))\n",
        "else:\n",
        "    st.warning(\"Flood dataset doesn't have latitude/longitude columns.\")\n"
      ],
      "metadata": {
        "colab": {
          "base_uri": "https://localhost:8080/",
          "height": 138
        },
        "id": "I41PuCWO5SQX",
        "outputId": "cda2cc5e-7c5a-41bc-cbbf-ca7a612ee46f"
      },
      "execution_count": 15,
      "outputs": [
        {
          "output_type": "stream",
          "name": "stderr",
          "text": [
            "2025-07-23 06:00:50.262 Thread 'MainThread': missing ScriptRunContext! This warning can be ignored when running in bare mode.\n",
            "2025-07-23 06:00:50.263 Thread 'MainThread': missing ScriptRunContext! This warning can be ignored when running in bare mode.\n",
            "2025-07-23 06:00:50.265 Thread 'MainThread': missing ScriptRunContext! This warning can be ignored when running in bare mode.\n",
            "2025-07-23 06:00:50.296 Thread 'MainThread': missing ScriptRunContext! This warning can be ignored when running in bare mode.\n",
            "2025-07-23 06:00:50.408 Thread 'MainThread': missing ScriptRunContext! This warning can be ignored when running in bare mode.\n",
            "2025-07-23 06:00:50.409 Thread 'MainThread': missing ScriptRunContext! This warning can be ignored when running in bare mode.\n",
            "2025-07-23 06:00:50.411 Thread 'MainThread': missing ScriptRunContext! This warning can be ignored when running in bare mode.\n"
          ]
        }
      ]
    },
    {
      "cell_type": "code",
      "source": [
        "if disaster_type == \"Earthquake\":\n",
        "    ...\n",
        "    # Add this\n",
        "    st.subheader(\"🌐 Earthquake Map View\")\n",
        "    if 'latitude' in df.columns and 'longitude' in df.columns:\n",
        "        st.map(df[['latitude', 'longitude']].dropna())\n",
        "elif disaster_type == \"Flood\":\n",
        "    ...\n",
        "    # Add this\n",
        "    st.subheader(\"🌐 Flood Map View\")\n",
        "    if 'latitude' in df.columns and 'longitude' in df.columns:\n",
        "        ...\n",
        "        # pydeck chart code\n"
      ],
      "metadata": {
        "colab": {
          "base_uri": "https://localhost:8080/"
        },
        "id": "6_NtJ-FU53sy",
        "outputId": "8f6cb5a7-1982-441b-9b71-027ae000a9e1"
      },
      "execution_count": 16,
      "outputs": [
        {
          "output_type": "stream",
          "name": "stderr",
          "text": [
            "2025-07-23 06:00:59.710 Thread 'MainThread': missing ScriptRunContext! This warning can be ignored when running in bare mode.\n",
            "2025-07-23 06:00:59.712 Thread 'MainThread': missing ScriptRunContext! This warning can be ignored when running in bare mode.\n",
            "2025-07-23 06:00:59.712 Thread 'MainThread': missing ScriptRunContext! This warning can be ignored when running in bare mode.\n",
            "2025-07-23 06:00:59.777 Thread 'MainThread': missing ScriptRunContext! This warning can be ignored when running in bare mode.\n",
            "2025-07-23 06:00:59.778 Thread 'MainThread': missing ScriptRunContext! This warning can be ignored when running in bare mode.\n",
            "2025-07-23 06:00:59.779 Thread 'MainThread': missing ScriptRunContext! This warning can be ignored when running in bare mode.\n"
          ]
        }
      ]
    },
    {
      "cell_type": "code",
      "source": [
        "pip install pydeck\n"
      ],
      "metadata": {
        "colab": {
          "base_uri": "https://localhost:8080/"
        },
        "id": "cgPhri835-Xz",
        "outputId": "02ce8a14-2c34-420e-88ee-041ee4bc852f"
      },
      "execution_count": 17,
      "outputs": [
        {
          "output_type": "stream",
          "name": "stdout",
          "text": [
            "Requirement already satisfied: pydeck in /usr/local/lib/python3.11/dist-packages (0.9.1)\n",
            "Requirement already satisfied: jinja2>=2.10.1 in /usr/local/lib/python3.11/dist-packages (from pydeck) (3.1.6)\n",
            "Requirement already satisfied: numpy>=1.16.4 in /usr/local/lib/python3.11/dist-packages (from pydeck) (2.0.2)\n",
            "Requirement already satisfied: MarkupSafe>=2.0 in /usr/local/lib/python3.11/dist-packages (from jinja2>=2.10.1->pydeck) (3.0.2)\n"
          ]
        }
      ]
    }
  ]
}